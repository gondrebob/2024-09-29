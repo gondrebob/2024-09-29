{
  "nbformat": 4,
  "nbformat_minor": 0,
  "metadata": {
    "colab": {
      "provenance": []
    },
    "kernelspec": {
      "name": "python3",
      "display_name": "Python 3"
    },
    "language_info": {
      "name": "python"
    }
  },
  "cells": [
    {
      "cell_type": "code",
      "execution_count": null,
      "metadata": {
        "id": "tUwindd7RORL"
      },
      "outputs": [],
      "source": [
        "print(\"Hello World!!\")"
      ]
    },
    {
      "cell_type": "code",
      "source": [
        "print(\"Hello Python\")\n"
      ],
      "metadata": {
        "id": "pikSOfmORe3Y"
      },
      "execution_count": null,
      "outputs": []
    },
    {
      "cell_type": "code",
      "source": [
        "print(\"Hello Google\")"
      ],
      "metadata": {
        "id": "SIiuZ7_-SyG0"
      },
      "execution_count": null,
      "outputs": []
    },
    {
      "cell_type": "code",
      "source": [
        "import pylab as by\n",
        "\n",
        "x_deg = by.arange(-180, 180+1)\n",
        "x_rad = by.deg2rad(x_deg)\n",
        "y = by.sin(x_rad)\n",
        "\n",
        "by.plot(x_deg, y)\n",
        "\n",
        "by.xlabel('x (deg)')\n",
        "by.ylabel('sin(x)')\n",
        "by.grid(True)\n"
      ],
      "metadata": {
        "id": "SswtnL6fZA6-"
      },
      "execution_count": null,
      "outputs": []
    },
    {
      "cell_type": "code",
      "source": [
        "1 + 1 #"
      ],
      "metadata": {
        "id": "2TyEB-mKfNNR",
        "colab": {
          "base_uri": "https://localhost:8080/"
        },
        "outputId": "c3843774-62a7-4c2f-885a-987dd4cf16fa"
      },
      "execution_count": null,
      "outputs": [
        {
          "output_type": "execute_result",
          "data": {
            "text/plain": [
              "2"
            ]
          },
          "metadata": {},
          "execution_count": 1
        }
      ]
    },
    {
      "cell_type": "code",
      "source": [
        "1 + 2 , 3 / 2.4 , 3 * 9"
      ],
      "metadata": {
        "colab": {
          "base_uri": "https://localhost:8080/"
        },
        "id": "l12UD9QAjyd8",
        "outputId": "f229cca3-7a11-45b2-ad95-609a283870cc"
      },
      "execution_count": null,
      "outputs": [
        {
          "output_type": "execute_result",
          "data": {
            "text/plain": [
              "(3, 1.25, 27)"
            ]
          },
          "metadata": {},
          "execution_count": 2
        }
      ]
    },
    {
      "cell_type": "code",
      "source": [
        "a = 1\n",
        "b = 2\n",
        "a + b"
      ],
      "metadata": {
        "colab": {
          "base_uri": "https://localhost:8080/"
        },
        "id": "GF0lmHHEkOj7",
        "outputId": "2d5d20f4-dd4c-4182-9f92-945e48046bf7"
      },
      "execution_count": null,
      "outputs": [
        {
          "output_type": "execute_result",
          "data": {
            "text/plain": [
              "3"
            ]
          },
          "metadata": {},
          "execution_count": 3
        }
      ]
    },
    {
      "cell_type": "code",
      "source": [
        "a = 3\n",
        "if a >  1 :\n",
        "  print ( \"a 는 1 보다 큼\")"
      ],
      "metadata": {
        "colab": {
          "base_uri": "https://localhost:8080/"
        },
        "id": "tpVeeJzgkaKP",
        "outputId": "d632c975-8411-460e-b291-6925ba10cbcf"
      },
      "execution_count": null,
      "outputs": [
        {
          "output_type": "stream",
          "name": "stdout",
          "text": [
            "a 는 1 보다 큼\n"
          ]
        }
      ]
    },
    {
      "cell_type": "code",
      "source": [
        "a = 3\n",
        "print(\"a는 1보다 큼\")"
      ],
      "metadata": {
        "colab": {
          "base_uri": "https://localhost:8080/"
        },
        "id": "KSywgajNklt7",
        "outputId": "2b4c6763-b14a-4c9b-9d3f-f58e09ba8447"
      },
      "execution_count": null,
      "outputs": [
        {
          "output_type": "stream",
          "name": "stdout",
          "text": [
            "a는 1보다 큼\n"
          ]
        }
      ]
    },
    {
      "cell_type": "code",
      "source": [
        "for a in  (1, 2, 3) :\n",
        "  print(a)"
      ],
      "metadata": {
        "colab": {
          "base_uri": "https://localhost:8080/"
        },
        "id": "uNjtFWz5ktOF",
        "outputId": "28e674bf-6868-45e3-be97-0c7494250865"
      },
      "execution_count": null,
      "outputs": [
        {
          "output_type": "stream",
          "name": "stdout",
          "text": [
            "1\n",
            "2\n",
            "3\n"
          ]
        }
      ]
    },
    {
      "cell_type": "code",
      "source": [
        "z = 0\n",
        "for a in range(1, 5+1) :\n",
        "  z = z + a\n",
        "  print(f\"a = (a, z = (z:3d)\")\n",
        "    pass # or some other action you intend to perform in the loop"
      ],
      "metadata": {
        "colab": {
          "base_uri": "https://localhost:8080/",
          "height": 109
        },
        "id": "her4J-Oyk0_b",
        "outputId": "bcb05bc2-74f5-4c7b-ef15-a4d5a5505d47"
      },
      "execution_count": null,
      "outputs": [
        {
          "output_type": "error",
          "ename": "IndentationError",
          "evalue": "unexpected indent (<ipython-input-8-51faf92c1faa>, line 5)",
          "traceback": [
            "\u001b[0;36m  File \u001b[0;32m\"<ipython-input-8-51faf92c1faa>\"\u001b[0;36m, line \u001b[0;32m5\u001b[0m\n\u001b[0;31m    pass # or some other action you intend to perform in the loop\u001b[0m\n\u001b[0m    ^\u001b[0m\n\u001b[0;31mIndentationError\u001b[0m\u001b[0;31m:\u001b[0m unexpected indent\n"
          ]
        }
      ]
    },
    {
      "cell_type": "code",
      "source": [
        "i = 0\n",
        "while i < 3 :\n",
        "  i = i + 1\n",
        "  print(i)"
      ],
      "metadata": {
        "colab": {
          "base_uri": "https://localhost:8080/"
        },
        "id": "-HaHoBo8k7df",
        "outputId": "1645573b-d339-4ef8-a37d-17e966b3fc10"
      },
      "execution_count": null,
      "outputs": [
        {
          "output_type": "stream",
          "name": "stdout",
          "text": [
            "1\n",
            "2\n",
            "3\n"
          ]
        }
      ]
    },
    {
      "cell_type": "code",
      "source": [
        "def add(x, y) :\n",
        "  return x + y"
      ],
      "metadata": {
        "id": "e29tqe89lYNA"
      },
      "execution_count": null,
      "outputs": []
    },
    {
      "cell_type": "code",
      "source": [
        "add(3, 4)"
      ],
      "metadata": {
        "colab": {
          "base_uri": "https://localhost:8080/"
        },
        "id": "GxLvoDCtlpvr",
        "outputId": "f2bbbe93-1e83-4cff-bcc6-2e751e2d77c0"
      },
      "execution_count": null,
      "outputs": [
        {
          "output_type": "execute_result",
          "data": {
            "text/plain": [
              "7"
            ]
          },
          "metadata": {},
          "execution_count": 11
        }
      ]
    },
    {
      "cell_type": "code",
      "source": [
        "add2 = lambda x, y : x + y"
      ],
      "metadata": {
        "id": "ATCz8S37lrCB"
      },
      "execution_count": null,
      "outputs": []
    },
    {
      "cell_type": "code",
      "source": [
        "add2(3, 4)"
      ],
      "metadata": {
        "colab": {
          "base_uri": "https://localhost:8080/"
        },
        "id": "a3UYjqS3lw8I",
        "outputId": "7688939f-98a2-4615-be77-a2d6139bffbd"
      },
      "execution_count": null,
      "outputs": [
        {
          "output_type": "execute_result",
          "data": {
            "text/plain": [
              "7"
            ]
          },
          "metadata": {},
          "execution_count": 13
        }
      ]
    },
    {
      "cell_type": "code",
      "source": [],
      "metadata": {
        "id": "vm2fntx2ly3G"
      },
      "execution_count": null,
      "outputs": []
    }
  ]
}